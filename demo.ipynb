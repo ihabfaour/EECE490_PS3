{
 "cells": [
  {
   "cell_type": "code",
   "execution_count": 16,
   "metadata": {},
   "outputs": [
    {
     "name": "stdout",
     "output_type": "stream",
     "text": [
      "Current working directory: c:\\Users\\Ihab\\OneDrive - American University of Beirut\\Desktop\\eece 490\\EECE490_PS3\n",
      "Files in the directory: ['.git', 'build_dataset.py', 'demo.ipynb', 'IRIS.csv', 'nn_model.py', 'README.md', '__pycache__']\n"
     ]
    }
   ],
   "source": [
    "import os\n",
    "print(\"Current working directory:\", os.getcwd())\n",
    "print(\"Files in the directory:\", os.listdir())\n"
   ]
  },
  {
   "cell_type": "code",
   "execution_count": 17,
   "metadata": {},
   "outputs": [],
   "source": [
    "# example_notebook.ipynb\n",
    "\n",
    "## Import necessary libraries\n",
    "import torch\n",
    "import torch.nn as nn\n",
    "import torch.optim as optim\n",
    "from nn_model import SimpleFeedForwardNN, train_model, evaluate_model\n",
    "from build_dataset import load_data"
   ]
  },
  {
   "cell_type": "code",
   "execution_count": 18,
   "metadata": {},
   "outputs": [],
   "source": [
    "# Load the dataset\n",
    "X_train, X_test, y_train, y_test = load_data(\"iris.csv\")"
   ]
  },
  {
   "cell_type": "code",
   "execution_count": 19,
   "metadata": {},
   "outputs": [],
   "source": [
    "# Set model parameters\n",
    "input_size = X_train.shape[1]\n",
    "hidden_size = 10\n",
    "output_size = len(set(y_train))\n"
   ]
  },
  {
   "cell_type": "code",
   "execution_count": 20,
   "metadata": {},
   "outputs": [],
   "source": [
    "# Initialize the model, criterion, and optimizer\n",
    "model = SimpleFeedForwardNN(input_size, hidden_size, output_size)\n",
    "criterion = nn.CrossEntropyLoss()\n",
    "optimizer = optim.Adam(model.parameters(), lr=0.01)"
   ]
  },
  {
   "cell_type": "code",
   "execution_count": 21,
   "metadata": {},
   "outputs": [
    {
     "name": "stdout",
     "output_type": "stream",
     "text": [
      "Training the model...\n",
      "Epoch [10/100], Loss: 0.9535\n",
      "Epoch [20/100], Loss: 0.8660\n",
      "Epoch [30/100], Loss: 0.8123\n",
      "Epoch [40/100], Loss: 0.7860\n",
      "Epoch [50/100], Loss: 0.7655\n",
      "Epoch [60/100], Loss: 0.7453\n",
      "Epoch [70/100], Loss: 0.7248\n",
      "Epoch [80/100], Loss: 0.7017\n",
      "Epoch [90/100], Loss: 0.6763\n",
      "Epoch [100/100], Loss: 0.6528\n"
     ]
    }
   ],
   "source": [
    "# Train the model\n",
    "print(\"Training the model...\")\n",
    "train_model(model, X_train, y_train, criterion, optimizer, num_epochs=100)"
   ]
  },
  {
   "cell_type": "code",
   "execution_count": 22,
   "metadata": {},
   "outputs": [
    {
     "name": "stdout",
     "output_type": "stream",
     "text": [
      "Evaluating the model...\n",
      "Accuracy: 100.00%\n",
      "Model saved as model.pth\n"
     ]
    }
   ],
   "source": [
    "# Evaluate the model\n",
    "print(\"Evaluating the model...\")\n",
    "evaluate_model(model, X_test, y_test)\n",
    "\n",
    "# Save the model\n",
    "torch.save(model.state_dict(), \"model.pth\")\n",
    "print(\"Model saved as model.pth\")"
   ]
  },
  {
   "cell_type": "code",
   "execution_count": 23,
   "metadata": {},
   "outputs": [
    {
     "name": "stdout",
     "output_type": "stream",
     "text": [
      "Model loaded and set to evaluation mode.\n"
     ]
    },
    {
     "name": "stderr",
     "output_type": "stream",
     "text": [
      "C:\\Users\\Ihab\\AppData\\Local\\Temp\\ipykernel_7104\\1356984417.py:3: FutureWarning: You are using `torch.load` with `weights_only=False` (the current default value), which uses the default pickle module implicitly. It is possible to construct malicious pickle data which will execute arbitrary code during unpickling (See https://github.com/pytorch/pytorch/blob/main/SECURITY.md#untrusted-models for more details). In a future release, the default value for `weights_only` will be flipped to `True`. This limits the functions that could be executed during unpickling. Arbitrary objects will no longer be allowed to be loaded via this mode unless they are explicitly allowlisted by the user via `torch.serialization.add_safe_globals`. We recommend you start setting `weights_only=True` for any use case where you don't have full control of the loaded file. Please open an issue on GitHub for any issues related to this experimental feature.\n",
      "  loaded_model.load_state_dict(torch.load(\"model.pth\"))\n"
     ]
    }
   ],
   "source": [
    "# Load the model (for demonstration purposes)\n",
    "loaded_model = SimpleFeedForwardNN(input_size, hidden_size, output_size)\n",
    "loaded_model.load_state_dict(torch.load(\"model.pth\"))\n",
    "loaded_model.eval()\n",
    "print(\"Model loaded and set to evaluation mode.\")\n"
   ]
  },
  {
   "cell_type": "code",
   "execution_count": 24,
   "metadata": {},
   "outputs": [
    {
     "name": "stdout",
     "output_type": "stream",
     "text": [
      "Making predictions...\n",
      "Predicted labels: [1 0 2 1 1 0 1 2 1 1 2 0 0 0 0 1 2 1 1 2 0 2 0 2 2 2 2 2 0 0]\n",
      "Actual labels: [1 0 2 1 1 0 1 2 1 1 2 0 0 0 0 1 2 1 1 2 0 2 0 2 2 2 2 2 0 0]\n"
     ]
    }
   ],
   "source": [
    "# Make predictions on the test set\n",
    "print(\"Making predictions...\")\n",
    "with torch.no_grad():  # Disable gradient computation\n",
    "    test_inputs = torch.tensor(X_test, dtype=torch.float32)\n",
    "    predictions = model(test_inputs)\n",
    "    _, predicted_labels = torch.max(predictions, 1)\n",
    "\n",
    "# Print predictions and actual labels\n",
    "print(\"Predicted labels:\", predicted_labels.numpy())\n",
    "print(\"Actual labels:\", y_test)\n"
   ]
  },
  {
   "cell_type": "code",
   "execution_count": 25,
   "metadata": {},
   "outputs": [
    {
     "name": "stdout",
     "output_type": "stream",
     "text": [
      "Predicted class names: ['versicolor', 'setosa', 'virginica', 'versicolor', 'versicolor', 'setosa', 'versicolor', 'virginica', 'versicolor', 'versicolor', 'virginica', 'setosa', 'setosa', 'setosa', 'setosa', 'versicolor', 'virginica', 'versicolor', 'versicolor', 'virginica', 'setosa', 'virginica', 'setosa', 'virginica', 'virginica', 'virginica', 'virginica', 'virginica', 'setosa', 'setosa']\n"
     ]
    }
   ],
   "source": [
    "# Map numeric labels back to class names\n",
    "label_mapping = {0: 'setosa', 1: 'versicolor', 2: 'virginica'}  # Adjust based on your dataset\n",
    "predicted_classes = [label_mapping[label] for label in predicted_labels.numpy()]\n",
    "\n",
    "print(\"Predicted class names:\", predicted_classes)\n"
   ]
  }
 ],
 "metadata": {
  "kernelspec": {
   "display_name": "Python 3",
   "language": "python",
   "name": "python3"
  },
  "language_info": {
   "codemirror_mode": {
    "name": "ipython",
    "version": 3
   },
   "file_extension": ".py",
   "mimetype": "text/x-python",
   "name": "python",
   "nbconvert_exporter": "python",
   "pygments_lexer": "ipython3",
   "version": "3.12.6"
  }
 },
 "nbformat": 4,
 "nbformat_minor": 2
}
